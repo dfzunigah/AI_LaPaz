{
 "cells": [
  {
   "cell_type": "markdown",
   "metadata": {},
   "source": [
    "### Modelo.py"
   ]
  },
  {
   "cell_type": "code",
   "execution_count": 29,
   "metadata": {},
   "outputs": [],
   "source": [
    "from pomegranate import *\n",
    "\n",
    "# Nodo Lluvia, no tiene padres\n",
    "lluvia = Node(DiscreteDistribution({\n",
    "    \"ninguna\": 0.7,\n",
    "    \"suave\": 0.2,\n",
    "    \"fuerte\": 0.1\n",
    "}), name=\"lluvia\")\n",
    "\n",
    "# Nodo de Mantenimiento esta condicionado por la lluvia\n",
    "mantenimiento = Node(ConditionalProbabilityTable([\n",
    "    [\"ninguna\",\"si\",0.4],\n",
    "    [\"ninguna\",\"no\",0.6],\n",
    "    [\"suave\",\"si\",0.2],\n",
    "    [\"suave\",\"no\",0.8],\n",
    "    [\"fuerte\",\"si\",0.1],\n",
    "    [\"fuerte\",\"no\",0.9]\n",
    "],[lluvia.distribution]), name=\"mantenimiento\")\n",
    "\n",
    "# nodo Bus esta condicionado por la lluvia y el mantenimiento\n",
    "bus = Node(ConditionalProbabilityTable([\n",
    "    [\"ninguna\",\"si\",\"a tiempo\", 0.8],\n",
    "    [\"ninguna\",\"si\",\"retrasado\", 0.2],\n",
    "    [\"ninguna\",\"no\",\"a tiempo\", 0.9],\n",
    "    [\"ninguna\",\"no\",\"retrasado\", 0.1],\n",
    "    [\"suave\",\"si\",\"a tiempo\", 0.6],\n",
    "    [\"suave\",\"si\",\"retrasado\", 0.4],\n",
    "    [\"suave\",\"no\",\"a tiempo\", 0.7],\n",
    "    [\"suave\",\"no\",\"retrasado\", 0.3],\n",
    "    [\"fuerte\",\"si\",\"a tiempo\", 0.4],\n",
    "    [\"fuerte\",\"si\",\"retrasado\", 0.6],\n",
    "    [\"fuerte\",\"no\",\"a tiempo\", 0.5],\n",
    "    [\"fuerte\",\"no\",\"retrasado\", 0.5]\n",
    "],[lluvia.distribution, mantenimiento.distribution]), name=\"bus\")\n",
    "\n",
    "# Nodo Cita esta condicionada por el Bus\n",
    "cita = Node(ConditionalProbabilityTable([\n",
    "    [\"a tiempo\", \"atendida\", 0.9],\n",
    "    [\"a tiempo\", \"perdida\", 0.1],\n",
    "    [\"retrasado\", \"atendida\", 0.6],\n",
    "    [\"retrasado\", \"perdida\", 0.4]\n",
    "],[bus.distribution]), name=\"cita\")\n",
    "\n",
    "# Creamos una Red Bayesiana y añadimos estados\n",
    "modelo = BayesianNetwork()\n",
    "modelo.add_states(lluvia, mantenimiento, bus, cita)\n",
    "\n",
    "# Añadimos bordes que conecten nodos\n",
    "modelo.add_edge(lluvia, mantenimiento)\n",
    "modelo.add_edge(mantenimiento, bus)\n",
    "modelo.add_edge(lluvia, bus)\n",
    "modelo.add_edge(bus, cita)\n",
    "\n",
    "#Modelo Final\n",
    "modelo.bake()"
   ]
  },
  {
   "cell_type": "markdown",
   "metadata": {},
   "source": [
    "### Probabilidad.py"
   ]
  },
  {
   "cell_type": "code",
   "execution_count": 37,
   "metadata": {},
   "outputs": [
    {
     "name": "stdout",
     "output_type": "stream",
     "text": [
      "Probabilidad #1: 0.34019999999999995\n",
      "Probabilidad #2: 0.003600000000000003\n",
      "Probabilidad #3: 0.10079999999999999\n"
     ]
    }
   ],
   "source": [
    "# Calculemos la probabilidad para una observacion dada\n",
    "probabilidad1 = modelo.probability([[\"ninguna\", \"no\", \"a tiempo\", \"atendida\"]])\n",
    "probabilidad2 = modelo.probability([[\"fuerte\", \"si\", \"a tiempo\", \"atendida\"]])\n",
    "probabilidad3 = modelo.probability([[\"suave\", \"no\", \"a tiempo\", \"atendida\"]])\n",
    "\n",
    "print(\"Probabilidad #1:\",probabilidad1)\n",
    "print(\"Probabilidad #2:\",probabilidad2)\n",
    "print(\"Probabilidad #3:\",probabilidad3)"
   ]
  },
  {
   "cell_type": "markdown",
   "metadata": {},
   "source": [
    "### Inferencia.py"
   ]
  },
  {
   "cell_type": "code",
   "execution_count": 33,
   "metadata": {},
   "outputs": [
    {
     "name": "stdout",
     "output_type": "stream",
     "text": [
      "lluvia\n",
      "       ninguna: 0.77\n",
      "       suave: 0.17\n",
      "       fuerte: 0.06\n",
      "mantenimiento\n",
      "       no: 0.68\n",
      "       si: 0.32\n",
      "bus: a tiempo\n",
      "cita\n",
      "       atendida: 0.90\n",
      "       perdida: 0.10\n"
     ]
    }
   ],
   "source": [
    "# Calculemos las predicciones\n",
    "predicciones = modelo.predict_proba({\n",
    "    'bus':'a tiempo'\n",
    "})\n",
    "\n",
    "# Visualizemos las predicciones para cada nodo\n",
    "for nodo, prediccion in zip(modelo.states, predicciones):\n",
    "    if isinstance(prediccion, str):\n",
    "        print(f\"{nodo.name}: {prediccion}\")\n",
    "    else:\n",
    "        print(f\"{nodo.name}\")\n",
    "        for valor, probabilidad in prediccion.parameters[0].items(): \n",
    "            print(f\"       {valor}: {probabilidad:.2f}\")"
   ]
  },
  {
   "cell_type": "code",
   "execution_count": null,
   "metadata": {},
   "outputs": [],
   "source": []
  }
 ],
 "metadata": {
  "kernelspec": {
   "display_name": "Python 3",
   "language": "python",
   "name": "python3"
  },
  "language_info": {
   "codemirror_mode": {
    "name": "ipython",
    "version": 3
   },
   "file_extension": ".py",
   "mimetype": "text/x-python",
   "name": "python",
   "nbconvert_exporter": "python",
   "pygments_lexer": "ipython3",
   "version": "3.7.6"
  }
 },
 "nbformat": 4,
 "nbformat_minor": 4
}
